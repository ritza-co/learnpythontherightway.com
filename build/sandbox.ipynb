{
 "cells": [
  {
   "cell_type": "code",
   "execution_count": 1,
   "id": "46682567",
   "metadata": {},
   "outputs": [
    {
     "data": {
      "text/plain": [
       "'\\n#!/bin/bash\\ncp $1\" \"in.md\"\\n# sed -i \\'\\' \\'s_\\\\(^!\\\\[.*\\\\](\\\\)_\\x01https://i.ritzastatic.com/learn-python-the-right-way/_\\' in.md\\n\\npandoc \"in.md\" --no-highlight -f markdown-auto_identifiers-citations -t html --lua-filter assets/fix-pre-code.lua -o out-temp.html\\n\\ncat assets/template_pre.html out-temp.html assets/template_post.html > out.html\\n\\n'"
      ]
     },
     "execution_count": 1,
     "metadata": {},
     "output_type": "execute_result"
    }
   ],
   "source": [
    "'''\n",
    "#!/bin/bash\n",
    "cp $1\" \"in.md\"\n",
    "# sed -i '' 's_\\(^!\\[.*\\](\\)_\\1https://i.ritzastatic.com/learn-python-the-right-way/_' in.md\n",
    "\n",
    "pandoc \"in.md\" --no-highlight -f markdown-auto_identifiers-citations -t html --lua-filter assets/fix-pre-code.lua -o out-temp.html\n",
    "\n",
    "cat assets/template_pre.html out-temp.html assets/template_post.html > out.html\n",
    "\n",
    "'''"
   ]
  },
  {
   "cell_type": "code",
   "execution_count": 15,
   "id": "d7defe0b",
   "metadata": {},
   "outputs": [
    {
     "name": "stdout",
     "output_type": "stream",
     "text": [
      "/Users/g/git/ritza-org/learn-python-the-right-way-book/manuscript/appendix-e.md\n",
      "appendix-e.html\n",
      "pandoc \"/Users/g/git/ritza-org/learn-python-the-right-way-book/manuscript/appendix-e.md\" --no-highlight -f markdown-auto_identifiers-citations -t html --lua-filter assets/fix-pre-code.lua -o out-temp.html\n",
      "/Users/g/git/ritza-org/learn-python-the-right-way-book/manuscript/chapter-3.md\n",
      "chapter-3.html\n",
      "pandoc \"/Users/g/git/ritza-org/learn-python-the-right-way-book/manuscript/chapter-3.md\" --no-highlight -f markdown-auto_identifiers-citations -t html --lua-filter assets/fix-pre-code.lua -o out-temp.html\n",
      "/Users/g/git/ritza-org/learn-python-the-right-way-book/manuscript/appendix-a.md\n",
      "appendix-a.html\n",
      "pandoc \"/Users/g/git/ritza-org/learn-python-the-right-way-book/manuscript/appendix-a.md\" --no-highlight -f markdown-auto_identifiers-citations -t html --lua-filter assets/fix-pre-code.lua -o out-temp.html\n",
      "/Users/g/git/ritza-org/learn-python-the-right-way-book/manuscript/chapter-7.md\n",
      "chapter-7.html\n",
      "pandoc \"/Users/g/git/ritza-org/learn-python-the-right-way-book/manuscript/chapter-7.md\" --no-highlight -f markdown-auto_identifiers-citations -t html --lua-filter assets/fix-pre-code.lua -o out-temp.html\n",
      "/Users/g/git/ritza-org/learn-python-the-right-way-book/manuscript/chapter-6.md\n",
      "chapter-6.html\n",
      "pandoc \"/Users/g/git/ritza-org/learn-python-the-right-way-book/manuscript/chapter-6.md\" --no-highlight -f markdown-auto_identifiers-citations -t html --lua-filter assets/fix-pre-code.lua -o out-temp.html\n",
      "/Users/g/git/ritza-org/learn-python-the-right-way-book/manuscript/appendix-d.md\n",
      "appendix-d.html\n",
      "pandoc \"/Users/g/git/ritza-org/learn-python-the-right-way-book/manuscript/appendix-d.md\" --no-highlight -f markdown-auto_identifiers-citations -t html --lua-filter assets/fix-pre-code.lua -o out-temp.html\n",
      "/Users/g/git/ritza-org/learn-python-the-right-way-book/manuscript/chapter-2.md\n",
      "chapter-2.html\n",
      "pandoc \"/Users/g/git/ritza-org/learn-python-the-right-way-book/manuscript/chapter-2.md\" --no-highlight -f markdown-auto_identifiers-citations -t html --lua-filter assets/fix-pre-code.lua -o out-temp.html\n",
      "/Users/g/git/ritza-org/learn-python-the-right-way-book/manuscript/chapter-15.md\n",
      "chapter-15.html\n",
      "pandoc \"/Users/g/git/ritza-org/learn-python-the-right-way-book/manuscript/chapter-15.md\" --no-highlight -f markdown-auto_identifiers-citations -t html --lua-filter assets/fix-pre-code.lua -o out-temp.html\n",
      "/Users/g/git/ritza-org/learn-python-the-right-way-book/manuscript/chapter-21.md\n",
      "chapter-21.html\n",
      "pandoc \"/Users/g/git/ritza-org/learn-python-the-right-way-book/manuscript/chapter-21.md\" --no-highlight -f markdown-auto_identifiers-citations -t html --lua-filter assets/fix-pre-code.lua -o out-temp.html\n",
      "/Users/g/git/ritza-org/learn-python-the-right-way-book/manuscript/chapter-9.md\n",
      "chapter-9.html\n",
      "pandoc \"/Users/g/git/ritza-org/learn-python-the-right-way-book/manuscript/chapter-9.md\" --no-highlight -f markdown-auto_identifiers-citations -t html --lua-filter assets/fix-pre-code.lua -o out-temp.html\n",
      "/Users/g/git/ritza-org/learn-python-the-right-way-book/manuscript/chapter-25.md\n",
      "chapter-25.html\n",
      "pandoc \"/Users/g/git/ritza-org/learn-python-the-right-way-book/manuscript/chapter-25.md\" --no-highlight -f markdown-auto_identifiers-citations -t html --lua-filter assets/fix-pre-code.lua -o out-temp.html\n",
      "/Users/g/git/ritza-org/learn-python-the-right-way-book/manuscript/chapter-11.md\n",
      "chapter-11.html\n",
      "pandoc \"/Users/g/git/ritza-org/learn-python-the-right-way-book/manuscript/chapter-11.md\" --no-highlight -f markdown-auto_identifiers-citations -t html --lua-filter assets/fix-pre-code.lua -o out-temp.html\n",
      "/Users/g/git/ritza-org/learn-python-the-right-way-book/manuscript/chapter-24.md\n",
      "chapter-24.html\n",
      "pandoc \"/Users/g/git/ritza-org/learn-python-the-right-way-book/manuscript/chapter-24.md\" --no-highlight -f markdown-auto_identifiers-citations -t html --lua-filter assets/fix-pre-code.lua -o out-temp.html\n",
      "/Users/g/git/ritza-org/learn-python-the-right-way-book/manuscript/chapter-10.md\n",
      "chapter-10.html\n",
      "pandoc \"/Users/g/git/ritza-org/learn-python-the-right-way-book/manuscript/chapter-10.md\" --no-highlight -f markdown-auto_identifiers-citations -t html --lua-filter assets/fix-pre-code.lua -o out-temp.html\n",
      "/Users/g/git/ritza-org/learn-python-the-right-way-book/manuscript/foreword.md\n",
      "foreword.html\n",
      "pandoc \"/Users/g/git/ritza-org/learn-python-the-right-way-book/manuscript/foreword.md\" --no-highlight -f markdown-auto_identifiers-citations -t html --lua-filter assets/fix-pre-code.lua -o out-temp.html\n",
      "/Users/g/git/ritza-org/learn-python-the-right-way-book/manuscript/chapter-14.md\n",
      "chapter-14.html\n",
      "pandoc \"/Users/g/git/ritza-org/learn-python-the-right-way-book/manuscript/chapter-14.md\" --no-highlight -f markdown-auto_identifiers-citations -t html --lua-filter assets/fix-pre-code.lua -o out-temp.html\n",
      "/Users/g/git/ritza-org/learn-python-the-right-way-book/manuscript/chapter-20.md\n",
      "chapter-20.html\n",
      "pandoc \"/Users/g/git/ritza-org/learn-python-the-right-way-book/manuscript/chapter-20.md\" --no-highlight -f markdown-auto_identifiers-citations -t html --lua-filter assets/fix-pre-code.lua -o out-temp.html\n",
      "/Users/g/git/ritza-org/learn-python-the-right-way-book/manuscript/chapter-8.md\n",
      "chapter-8.html\n",
      "pandoc \"/Users/g/git/ritza-org/learn-python-the-right-way-book/manuscript/chapter-8.md\" --no-highlight -f markdown-auto_identifiers-citations -t html --lua-filter assets/fix-pre-code.lua -o out-temp.html\n",
      "/Users/g/git/ritza-org/learn-python-the-right-way-book/manuscript/chapter-27.md\n",
      "chapter-27.html\n",
      "pandoc \"/Users/g/git/ritza-org/learn-python-the-right-way-book/manuscript/chapter-27.md\" --no-highlight -f markdown-auto_identifiers-citations -t html --lua-filter assets/fix-pre-code.lua -o out-temp.html\n",
      "/Users/g/git/ritza-org/learn-python-the-right-way-book/manuscript/chapter-13.md\n",
      "chapter-13.html\n",
      "pandoc \"/Users/g/git/ritza-org/learn-python-the-right-way-book/manuscript/chapter-13.md\" --no-highlight -f markdown-auto_identifiers-citations -t html --lua-filter assets/fix-pre-code.lua -o out-temp.html\n",
      "/Users/g/git/ritza-org/learn-python-the-right-way-book/manuscript/chapter-17.md\n",
      "chapter-17.html\n",
      "pandoc \"/Users/g/git/ritza-org/learn-python-the-right-way-book/manuscript/chapter-17.md\" --no-highlight -f markdown-auto_identifiers-citations -t html --lua-filter assets/fix-pre-code.lua -o out-temp.html\n",
      "/Users/g/git/ritza-org/learn-python-the-right-way-book/manuscript/chapter-23.md\n",
      "chapter-23.html\n",
      "pandoc \"/Users/g/git/ritza-org/learn-python-the-right-way-book/manuscript/chapter-23.md\" --no-highlight -f markdown-auto_identifiers-citations -t html --lua-filter assets/fix-pre-code.lua -o out-temp.html\n",
      "/Users/g/git/ritza-org/learn-python-the-right-way-book/manuscript/chapter-16.md\n",
      "chapter-16.html\n",
      "pandoc \"/Users/g/git/ritza-org/learn-python-the-right-way-book/manuscript/chapter-16.md\" --no-highlight -f markdown-auto_identifiers-citations -t html --lua-filter assets/fix-pre-code.lua -o out-temp.html\n",
      "/Users/g/git/ritza-org/learn-python-the-right-way-book/manuscript/chapter-22.md\n",
      "chapter-22.html\n",
      "pandoc \"/Users/g/git/ritza-org/learn-python-the-right-way-book/manuscript/chapter-22.md\" --no-highlight -f markdown-auto_identifiers-citations -t html --lua-filter assets/fix-pre-code.lua -o out-temp.html\n",
      "/Users/g/git/ritza-org/learn-python-the-right-way-book/manuscript/chapter-26.md\n",
      "chapter-26.html\n",
      "pandoc \"/Users/g/git/ritza-org/learn-python-the-right-way-book/manuscript/chapter-26.md\" --no-highlight -f markdown-auto_identifiers-citations -t html --lua-filter assets/fix-pre-code.lua -o out-temp.html\n",
      "/Users/g/git/ritza-org/learn-python-the-right-way-book/manuscript/chapter-12.md\n",
      "chapter-12.html\n",
      "pandoc \"/Users/g/git/ritza-org/learn-python-the-right-way-book/manuscript/chapter-12.md\" --no-highlight -f markdown-auto_identifiers-citations -t html --lua-filter assets/fix-pre-code.lua -o out-temp.html\n",
      "/Users/g/git/ritza-org/learn-python-the-right-way-book/manuscript/chapter-19.md\n",
      "chapter-19.html\n",
      "pandoc \"/Users/g/git/ritza-org/learn-python-the-right-way-book/manuscript/chapter-19.md\" --no-highlight -f markdown-auto_identifiers-citations -t html --lua-filter assets/fix-pre-code.lua -o out-temp.html\n",
      "/Users/g/git/ritza-org/learn-python-the-right-way-book/manuscript/preface.md\n",
      "preface.html\n",
      "pandoc \"/Users/g/git/ritza-org/learn-python-the-right-way-book/manuscript/preface.md\" --no-highlight -f markdown-auto_identifiers-citations -t html --lua-filter assets/fix-pre-code.lua -o out-temp.html\n",
      "/Users/g/git/ritza-org/learn-python-the-right-way-book/manuscript/appendix-c.md\n",
      "appendix-c.html\n",
      "pandoc \"/Users/g/git/ritza-org/learn-python-the-right-way-book/manuscript/appendix-c.md\" --no-highlight -f markdown-auto_identifiers-citations -t html --lua-filter assets/fix-pre-code.lua -o out-temp.html\n",
      "/Users/g/git/ritza-org/learn-python-the-right-way-book/manuscript/chapter-5.md\n",
      "chapter-5.html\n",
      "pandoc \"/Users/g/git/ritza-org/learn-python-the-right-way-book/manuscript/chapter-5.md\" --no-highlight -f markdown-auto_identifiers-citations -t html --lua-filter assets/fix-pre-code.lua -o out-temp.html\n"
     ]
    },
    {
     "name": "stdout",
     "output_type": "stream",
     "text": [
      "/Users/g/git/ritza-org/learn-python-the-right-way-book/manuscript/contributor-list.md\n",
      "contributor-list.html\n",
      "pandoc \"/Users/g/git/ritza-org/learn-python-the-right-way-book/manuscript/contributor-list.md\" --no-highlight -f markdown-auto_identifiers-citations -t html --lua-filter assets/fix-pre-code.lua -o out-temp.html\n",
      "/Users/g/git/ritza-org/learn-python-the-right-way-book/manuscript/chapter-1.md\n",
      "chapter-1.html\n",
      "pandoc \"/Users/g/git/ritza-org/learn-python-the-right-way-book/manuscript/chapter-1.md\" --no-highlight -f markdown-auto_identifiers-citations -t html --lua-filter assets/fix-pre-code.lua -o out-temp.html\n",
      "/Users/g/git/ritza-org/learn-python-the-right-way-book/manuscript/copyright-notice.md\n",
      "copyright-notice.html\n",
      "pandoc \"/Users/g/git/ritza-org/learn-python-the-right-way-book/manuscript/copyright-notice.md\" --no-highlight -f markdown-auto_identifiers-citations -t html --lua-filter assets/fix-pre-code.lua -o out-temp.html\n",
      "/Users/g/git/ritza-org/learn-python-the-right-way-book/manuscript/chapter-28.md\n",
      "chapter-28.html\n",
      "pandoc \"/Users/g/git/ritza-org/learn-python-the-right-way-book/manuscript/chapter-28.md\" --no-highlight -f markdown-auto_identifiers-citations -t html --lua-filter assets/fix-pre-code.lua -o out-temp.html\n",
      "/Users/g/git/ritza-org/learn-python-the-right-way-book/manuscript/chapter-18.md\n",
      "chapter-18.html\n",
      "pandoc \"/Users/g/git/ritza-org/learn-python-the-right-way-book/manuscript/chapter-18.md\" --no-highlight -f markdown-auto_identifiers-citations -t html --lua-filter assets/fix-pre-code.lua -o out-temp.html\n",
      "/Users/g/git/ritza-org/learn-python-the-right-way-book/manuscript/appendix-b.md\n",
      "appendix-b.html\n",
      "pandoc \"/Users/g/git/ritza-org/learn-python-the-right-way-book/manuscript/appendix-b.md\" --no-highlight -f markdown-auto_identifiers-citations -t html --lua-filter assets/fix-pre-code.lua -o out-temp.html\n",
      "/Users/g/git/ritza-org/learn-python-the-right-way-book/manuscript/chapter-4.md\n",
      "chapter-4.html\n",
      "pandoc \"/Users/g/git/ritza-org/learn-python-the-right-way-book/manuscript/chapter-4.md\" --no-highlight -f markdown-auto_identifiers-citations -t html --lua-filter assets/fix-pre-code.lua -o out-temp.html\n"
     ]
    }
   ],
   "source": [
    "import os\n",
    "\n",
    "cwd = os.getcwd()\n",
    "\n",
    "# where the markdown files are\n",
    "PATH_TO_MANU_REPO = os.path.normpath(os.path.join(cwd, \"../../learn-python-the-right-way-book/manuscript/\"))\n",
    "\n",
    "# where we'll dump the HTML\n",
    "PATH_TO_HTML_REPO = os.path.normpath(os.path.join(cwd, \"../../learnpythontherightway.com/chapter\"))\n",
    "\n",
    "def get_title_metadesc(fp):\n",
    "    with open(fp) as f:\n",
    "        s = f.read().split(\"\\n\")[0]\n",
    "        \n",
    "        s = s.replace(\"# \", \"\")\n",
    "        try:\n",
    "            t, d = s.split(\": \")\n",
    "            title = f\"{t} | Learn Python the Right Way\"\n",
    "            description = f\"Learn about {d} in {t} of Learn Python the Right Way\"\n",
    "        except:\n",
    "            title = f\"{s} | Learn Python the Right Way\"\n",
    "            description = f\"The {s} of Learn Python the Right Way\"\n",
    "    return title, description\n",
    "\n",
    "def create_html(fp, title, description):\n",
    "    out_fn = fp.split(\"/\")[-1].replace(\".md\", \".html\")\n",
    "    print(out_fn)\n",
    "    cmd = f'''pandoc \"{fp}\" --no-highlight -f markdown-auto_identifiers-citations -t html --lua-filter assets/fix-pre-code.lua -o out-temp.html'''\n",
    "    print(cmd)\n",
    "    os.system(cmd)\n",
    "    \n",
    "    with open(\"assets/template_pre.html\") as f:\n",
    "        pre = f.read()\n",
    "        pre = pre.replace(\"{{title}}\", title)\n",
    "        pre = pre.replace(\"{{description}}\", description)\n",
    "    \n",
    "    with open(\"assets/template_post.html\") as f:\n",
    "        post = f.read()\n",
    "        \n",
    "    with open(\"out-temp.html\") as f:\n",
    "        body = f.read()\n",
    "        \n",
    "    out_fp = os.path.join(PATH_TO_HTML_REPO, out_fn)\n",
    "    with open(out_fp, \"w\") as f:\n",
    "        f.write(pre + body + post)\n",
    "        \n",
    "def build_all():\n",
    "    markdowns = os.listdir(PATH_TO_MANU_REPO)\n",
    "    markdowns = [x for x in markdowns if x.endswith(\".md\")]\n",
    "    for md in markdowns:\n",
    "        fp = os.path.join(PATH_TO_MANU_REPO, md)\n",
    "        print(fp)\n",
    "        t, d = get_title_metadesc(fp)\n",
    "        create_html(fp, t, d)\n",
    "        \n",
    "    # copy all images from book\n",
    "    os.system(\"cp -r ../../learn-python-the-right-way-book/manuscript/resources/* ../chapter\")\n",
    "        \n",
    "build_all()\n",
    "            \n",
    "        \n",
    "            \n",
    "            \n",
    "        \n",
    "        \n",
    "\n"
   ]
  },
  {
   "cell_type": "code",
   "execution_count": 10,
   "id": "e696d526",
   "metadata": {},
   "outputs": [
    {
     "data": {
      "text/plain": [
       "'/Users/g/git/ritza-org/learnpythontherightway.com/build'"
      ]
     },
     "execution_count": 10,
     "metadata": {},
     "output_type": "execute_result"
    }
   ],
   "source": [
    "import os\n",
    "\n",
    "os.getcwd()\n"
   ]
  },
  {
   "cell_type": "code",
   "execution_count": 6,
   "id": "f33977f9",
   "metadata": {},
   "outputs": [
    {
     "name": "stdout",
     "output_type": "stream",
     "text": [
      "/Users/g/git/ritza-org/learnpythontherightway.com/build/../../learn-python-the-right-way-book/manuscript/\n"
     ]
    }
   ],
   "source": [
    "import os\n",
    "\n",
    "cwd = os.getcwd()\n",
    "\n",
    "PATH_TO_MANU_REPO = os.path.join(cwd, \"../../learn-python-the-right-way-book/manuscript/\")\n",
    "print(PATH_TO_MANU_REPO)\n",
    "\n"
   ]
  },
  {
   "cell_type": "code",
   "execution_count": 7,
   "id": "e312afad",
   "metadata": {},
   "outputs": [
    {
     "data": {
      "text/plain": [
       "'/Users/g/git/ritza-org/learn-python-the-right-way-book/manuscript'"
      ]
     },
     "execution_count": 7,
     "metadata": {},
     "output_type": "execute_result"
    }
   ],
   "source": [
    "os.path.normpath(PATH_TO_MANU_REPO)"
   ]
  },
  {
   "cell_type": "code",
   "execution_count": 10,
   "id": "53f10d5d",
   "metadata": {},
   "outputs": [
    {
     "name": "stdout",
     "output_type": "stream",
     "text": [
      "../../learnpythontherightway.com/chapter\n",
      "../../learnpythontherightway.com/chapter\n"
     ]
    }
   ],
   "source": [
    "import os\n",
    "\n",
    "cwd = os.getcwd()\n",
    "# where we'll dump the HTML\n",
    "PATH_TO_HTML_REPO = \"../../learnpythontherightway.com/chapter\"\n",
    "print(PATH_TO_HTML_REPO)\n",
    "\n",
    "print(os.path.normpath(os.path.join(PATH_TO_HTML_REPO)))"
   ]
  },
  {
   "cell_type": "code",
   "execution_count": 13,
   "id": "873d545a",
   "metadata": {},
   "outputs": [
    {
     "name": "stdout",
     "output_type": "stream",
     "text": [
      "/Users/g/git/ritza-org/learnpythontherightway.com/chapter\n",
      "/Users/g/git/ritza-org/learn-python-the-right-way-book/manuscript\n",
      "/Users/g/git/ritza-org/learnpythontherightway.com/chapter/chapter5.html\n"
     ]
    }
   ],
   "source": [
    "import os\n",
    "\n",
    "cwd = os.getcwd()\n",
    "\n",
    "# where the markdown files are\n",
    "PATH_TO_MANU_REPO = os.path.normpath(os.path.join(cwd, \"../../learn-python-the-right-way-book/manuscript/\"))\n",
    "\n",
    "# where we'll dump the HTML\n",
    "PATH_TO_HTML_REPO = os.path.normpath(os.path.join(cwd, \"../../learnpythontherightway.com/chapter\"))\n",
    "\n",
    "print(PATH_TO_HTML_REPO)\n",
    "print(PATH_TO_MANU_REPO)\n",
    "\n",
    "print(os.path.join(PATH_TO_HTML_REPO, \"chapter5.html\"))"
   ]
  },
  {
   "cell_type": "code",
   "execution_count": null,
   "id": "8419f4ae",
   "metadata": {},
   "outputs": [],
   "source": []
  }
 ],
 "metadata": {
  "kernelspec": {
   "display_name": "Python 3",
   "language": "python",
   "name": "python3"
  },
  "language_info": {
   "codemirror_mode": {
    "name": "ipython",
    "version": 3
   },
   "file_extension": ".py",
   "mimetype": "text/x-python",
   "name": "python",
   "nbconvert_exporter": "python",
   "pygments_lexer": "ipython3",
   "version": "3.8.9"
  }
 },
 "nbformat": 4,
 "nbformat_minor": 5
}
